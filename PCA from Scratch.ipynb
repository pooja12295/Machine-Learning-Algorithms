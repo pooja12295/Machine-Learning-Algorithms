{
  "nbformat": 4,
  "nbformat_minor": 0,
  "metadata": {
    "colab": {
      "name": "Copy of PCA_centering.ipynb",
      "provenance": []
    },
    "kernelspec": {
      "name": "python3",
      "display_name": "Python 3"
    },
    "language_info": {
      "name": "python"
    }
  },
  "cells": [
    {
      "cell_type": "code",
      "source": [
        "from numpy import array\n",
        "from numpy import mean\n",
        "from numpy import cov\n",
        "from numpy.linalg import eig\n",
        "from numpy import dot\n",
        "from numpy import random\n",
        "from numpy import sqrt\n",
        "import matplotlib.pyplot as plt\n",
        "\n",
        "import numpy as np\n",
        "import pandas as pd \n",
        "import matplotlib as mpl\n",
        "import matplotlib.pyplot as plt\n",
        "import seaborn as sns\n",
        "%matplotlib inline"
      ],
      "metadata": {
        "id": "Y3XyQgs87OnA"
      },
      "execution_count": 1,
      "outputs": []
    },
    {
      "cell_type": "code",
      "source": [
        "dataset = pd.read_csv('/content/Dataset.csv')\n",
        "print(dataset)"
      ],
      "metadata": {
        "colab": {
          "base_uri": "https://localhost:8080/"
        },
        "id": "_0aITMMA7SDd",
        "outputId": "bc924230-7bd8-4355-edbd-22b074ee3f78"
      },
      "execution_count": 2,
      "outputs": [
        {
          "output_type": "stream",
          "name": "stdout",
          "text": [
            "       0.143  0.98493\n",
            "0   -0.30467  0.98562\n",
            "1    0.46625 -0.84003\n",
            "2    0.94847  0.37222\n",
            "3   -0.96871 -0.26697\n",
            "4    0.31051  0.98325\n",
            "..       ...      ...\n",
            "994  4.48210 -7.40030\n",
            "995 -3.49630  8.63860\n",
            "996  6.10620 -5.98640\n",
            "997 -7.40940 -5.52050\n",
            "998 -0.12948 -8.80360\n",
            "\n",
            "[999 rows x 2 columns]\n"
          ]
        }
      ]
    },
    {
      "cell_type": "code",
      "source": [
        "dataset.keys()"
      ],
      "metadata": {
        "colab": {
          "base_uri": "https://localhost:8080/"
        },
        "id": "YRbN8pQJ8TrT",
        "outputId": "6a5cbd0c-cfc9-4cda-f6b4-3cedbddb4bac"
      },
      "execution_count": 3,
      "outputs": [
        {
          "output_type": "execute_result",
          "data": {
            "text/plain": [
              "Index(['0.143', '0.98493'], dtype='object')"
            ]
          },
          "metadata": {},
          "execution_count": 3
        }
      ]
    },
    {
      "cell_type": "code",
      "source": [
        "dataset.describe()"
      ],
      "metadata": {
        "colab": {
          "base_uri": "https://localhost:8080/",
          "height": 300
        },
        "id": "q_F9j8Xj8KpF",
        "outputId": "b91821c5-f642-4c3f-e44a-9055c2612589"
      },
      "execution_count": 4,
      "outputs": [
        {
          "output_type": "execute_result",
          "data": {
            "text/html": [
              "\n",
              "  <div id=\"df-ea936324-c5c2-4970-b921-d7cf77541e00\">\n",
              "    <div class=\"colab-df-container\">\n",
              "      <div>\n",
              "<style scoped>\n",
              "    .dataframe tbody tr th:only-of-type {\n",
              "        vertical-align: middle;\n",
              "    }\n",
              "\n",
              "    .dataframe tbody tr th {\n",
              "        vertical-align: top;\n",
              "    }\n",
              "\n",
              "    .dataframe thead th {\n",
              "        text-align: right;\n",
              "    }\n",
              "</style>\n",
              "<table border=\"1\" class=\"dataframe\">\n",
              "  <thead>\n",
              "    <tr style=\"text-align: right;\">\n",
              "      <th></th>\n",
              "      <th>0.143</th>\n",
              "      <th>0.98493</th>\n",
              "    </tr>\n",
              "  </thead>\n",
              "  <tbody>\n",
              "    <tr>\n",
              "      <th>count</th>\n",
              "      <td>999.000000</td>\n",
              "      <td>999.000000</td>\n",
              "    </tr>\n",
              "    <tr>\n",
              "      <th>mean</th>\n",
              "      <td>-0.000143</td>\n",
              "      <td>-0.000986</td>\n",
              "    </tr>\n",
              "    <tr>\n",
              "      <th>std</th>\n",
              "      <td>3.846521</td>\n",
              "      <td>4.109522</td>\n",
              "    </tr>\n",
              "    <tr>\n",
              "      <th>min</th>\n",
              "      <td>-9.494100</td>\n",
              "      <td>-8.836600</td>\n",
              "    </tr>\n",
              "    <tr>\n",
              "      <th>25%</th>\n",
              "      <td>-2.026700</td>\n",
              "      <td>-2.393700</td>\n",
              "    </tr>\n",
              "    <tr>\n",
              "      <th>50%</th>\n",
              "      <td>0.068287</td>\n",
              "      <td>0.101410</td>\n",
              "    </tr>\n",
              "    <tr>\n",
              "      <th>75%</th>\n",
              "      <td>2.477800</td>\n",
              "      <td>2.415250</td>\n",
              "    </tr>\n",
              "    <tr>\n",
              "      <th>max</th>\n",
              "      <td>8.566400</td>\n",
              "      <td>9.172600</td>\n",
              "    </tr>\n",
              "  </tbody>\n",
              "</table>\n",
              "</div>\n",
              "      <button class=\"colab-df-convert\" onclick=\"convertToInteractive('df-ea936324-c5c2-4970-b921-d7cf77541e00')\"\n",
              "              title=\"Convert this dataframe to an interactive table.\"\n",
              "              style=\"display:none;\">\n",
              "        \n",
              "  <svg xmlns=\"http://www.w3.org/2000/svg\" height=\"24px\"viewBox=\"0 0 24 24\"\n",
              "       width=\"24px\">\n",
              "    <path d=\"M0 0h24v24H0V0z\" fill=\"none\"/>\n",
              "    <path d=\"M18.56 5.44l.94 2.06.94-2.06 2.06-.94-2.06-.94-.94-2.06-.94 2.06-2.06.94zm-11 1L8.5 8.5l.94-2.06 2.06-.94-2.06-.94L8.5 2.5l-.94 2.06-2.06.94zm10 10l.94 2.06.94-2.06 2.06-.94-2.06-.94-.94-2.06-.94 2.06-2.06.94z\"/><path d=\"M17.41 7.96l-1.37-1.37c-.4-.4-.92-.59-1.43-.59-.52 0-1.04.2-1.43.59L10.3 9.45l-7.72 7.72c-.78.78-.78 2.05 0 2.83L4 21.41c.39.39.9.59 1.41.59.51 0 1.02-.2 1.41-.59l7.78-7.78 2.81-2.81c.8-.78.8-2.07 0-2.86zM5.41 20L4 18.59l7.72-7.72 1.47 1.35L5.41 20z\"/>\n",
              "  </svg>\n",
              "      </button>\n",
              "      \n",
              "  <style>\n",
              "    .colab-df-container {\n",
              "      display:flex;\n",
              "      flex-wrap:wrap;\n",
              "      gap: 12px;\n",
              "    }\n",
              "\n",
              "    .colab-df-convert {\n",
              "      background-color: #E8F0FE;\n",
              "      border: none;\n",
              "      border-radius: 50%;\n",
              "      cursor: pointer;\n",
              "      display: none;\n",
              "      fill: #1967D2;\n",
              "      height: 32px;\n",
              "      padding: 0 0 0 0;\n",
              "      width: 32px;\n",
              "    }\n",
              "\n",
              "    .colab-df-convert:hover {\n",
              "      background-color: #E2EBFA;\n",
              "      box-shadow: 0px 1px 2px rgba(60, 64, 67, 0.3), 0px 1px 3px 1px rgba(60, 64, 67, 0.15);\n",
              "      fill: #174EA6;\n",
              "    }\n",
              "\n",
              "    [theme=dark] .colab-df-convert {\n",
              "      background-color: #3B4455;\n",
              "      fill: #D2E3FC;\n",
              "    }\n",
              "\n",
              "    [theme=dark] .colab-df-convert:hover {\n",
              "      background-color: #434B5C;\n",
              "      box-shadow: 0px 1px 3px 1px rgba(0, 0, 0, 0.15);\n",
              "      filter: drop-shadow(0px 1px 2px rgba(0, 0, 0, 0.3));\n",
              "      fill: #FFFFFF;\n",
              "    }\n",
              "  </style>\n",
              "\n",
              "      <script>\n",
              "        const buttonEl =\n",
              "          document.querySelector('#df-ea936324-c5c2-4970-b921-d7cf77541e00 button.colab-df-convert');\n",
              "        buttonEl.style.display =\n",
              "          google.colab.kernel.accessAllowed ? 'block' : 'none';\n",
              "\n",
              "        async function convertToInteractive(key) {\n",
              "          const element = document.querySelector('#df-ea936324-c5c2-4970-b921-d7cf77541e00');\n",
              "          const dataTable =\n",
              "            await google.colab.kernel.invokeFunction('convertToInteractive',\n",
              "                                                     [key], {});\n",
              "          if (!dataTable) return;\n",
              "\n",
              "          const docLinkHtml = 'Like what you see? Visit the ' +\n",
              "            '<a target=\"_blank\" href=https://colab.research.google.com/notebooks/data_table.ipynb>data table notebook</a>'\n",
              "            + ' to learn more about interactive tables.';\n",
              "          element.innerHTML = '';\n",
              "          dataTable['output_type'] = 'display_data';\n",
              "          await google.colab.output.renderOutput(dataTable, element);\n",
              "          const docLink = document.createElement('div');\n",
              "          docLink.innerHTML = docLinkHtml;\n",
              "          element.appendChild(docLink);\n",
              "        }\n",
              "      </script>\n",
              "    </div>\n",
              "  </div>\n",
              "  "
            ],
            "text/plain": [
              "            0.143     0.98493\n",
              "count  999.000000  999.000000\n",
              "mean    -0.000143   -0.000986\n",
              "std      3.846521    4.109522\n",
              "min     -9.494100   -8.836600\n",
              "25%     -2.026700   -2.393700\n",
              "50%      0.068287    0.101410\n",
              "75%      2.477800    2.415250\n",
              "max      8.566400    9.172600"
            ]
          },
          "metadata": {},
          "execution_count": 4
        }
      ]
    },
    {
      "cell_type": "code",
      "source": [
        "dataset.corr()"
      ],
      "metadata": {
        "colab": {
          "base_uri": "https://localhost:8080/",
          "height": 112
        },
        "id": "gCiBt47b8j0P",
        "outputId": "2f25f8d8-fa39-403a-a6a6-4274b7ec694f"
      },
      "execution_count": 5,
      "outputs": [
        {
          "output_type": "execute_result",
          "data": {
            "text/html": [
              "\n",
              "  <div id=\"df-6d2353fe-703f-4975-a55d-cc1614a1a478\">\n",
              "    <div class=\"colab-df-container\">\n",
              "      <div>\n",
              "<style scoped>\n",
              "    .dataframe tbody tr th:only-of-type {\n",
              "        vertical-align: middle;\n",
              "    }\n",
              "\n",
              "    .dataframe tbody tr th {\n",
              "        vertical-align: top;\n",
              "    }\n",
              "\n",
              "    .dataframe thead th {\n",
              "        text-align: right;\n",
              "    }\n",
              "</style>\n",
              "<table border=\"1\" class=\"dataframe\">\n",
              "  <thead>\n",
              "    <tr style=\"text-align: right;\">\n",
              "      <th></th>\n",
              "      <th>0.143</th>\n",
              "      <th>0.98493</th>\n",
              "    </tr>\n",
              "  </thead>\n",
              "  <tbody>\n",
              "    <tr>\n",
              "      <th>0.143</th>\n",
              "      <td>1.000000</td>\n",
              "      <td>0.051263</td>\n",
              "    </tr>\n",
              "    <tr>\n",
              "      <th>0.98493</th>\n",
              "      <td>0.051263</td>\n",
              "      <td>1.000000</td>\n",
              "    </tr>\n",
              "  </tbody>\n",
              "</table>\n",
              "</div>\n",
              "      <button class=\"colab-df-convert\" onclick=\"convertToInteractive('df-6d2353fe-703f-4975-a55d-cc1614a1a478')\"\n",
              "              title=\"Convert this dataframe to an interactive table.\"\n",
              "              style=\"display:none;\">\n",
              "        \n",
              "  <svg xmlns=\"http://www.w3.org/2000/svg\" height=\"24px\"viewBox=\"0 0 24 24\"\n",
              "       width=\"24px\">\n",
              "    <path d=\"M0 0h24v24H0V0z\" fill=\"none\"/>\n",
              "    <path d=\"M18.56 5.44l.94 2.06.94-2.06 2.06-.94-2.06-.94-.94-2.06-.94 2.06-2.06.94zm-11 1L8.5 8.5l.94-2.06 2.06-.94-2.06-.94L8.5 2.5l-.94 2.06-2.06.94zm10 10l.94 2.06.94-2.06 2.06-.94-2.06-.94-.94-2.06-.94 2.06-2.06.94z\"/><path d=\"M17.41 7.96l-1.37-1.37c-.4-.4-.92-.59-1.43-.59-.52 0-1.04.2-1.43.59L10.3 9.45l-7.72 7.72c-.78.78-.78 2.05 0 2.83L4 21.41c.39.39.9.59 1.41.59.51 0 1.02-.2 1.41-.59l7.78-7.78 2.81-2.81c.8-.78.8-2.07 0-2.86zM5.41 20L4 18.59l7.72-7.72 1.47 1.35L5.41 20z\"/>\n",
              "  </svg>\n",
              "      </button>\n",
              "      \n",
              "  <style>\n",
              "    .colab-df-container {\n",
              "      display:flex;\n",
              "      flex-wrap:wrap;\n",
              "      gap: 12px;\n",
              "    }\n",
              "\n",
              "    .colab-df-convert {\n",
              "      background-color: #E8F0FE;\n",
              "      border: none;\n",
              "      border-radius: 50%;\n",
              "      cursor: pointer;\n",
              "      display: none;\n",
              "      fill: #1967D2;\n",
              "      height: 32px;\n",
              "      padding: 0 0 0 0;\n",
              "      width: 32px;\n",
              "    }\n",
              "\n",
              "    .colab-df-convert:hover {\n",
              "      background-color: #E2EBFA;\n",
              "      box-shadow: 0px 1px 2px rgba(60, 64, 67, 0.3), 0px 1px 3px 1px rgba(60, 64, 67, 0.15);\n",
              "      fill: #174EA6;\n",
              "    }\n",
              "\n",
              "    [theme=dark] .colab-df-convert {\n",
              "      background-color: #3B4455;\n",
              "      fill: #D2E3FC;\n",
              "    }\n",
              "\n",
              "    [theme=dark] .colab-df-convert:hover {\n",
              "      background-color: #434B5C;\n",
              "      box-shadow: 0px 1px 3px 1px rgba(0, 0, 0, 0.15);\n",
              "      filter: drop-shadow(0px 1px 2px rgba(0, 0, 0, 0.3));\n",
              "      fill: #FFFFFF;\n",
              "    }\n",
              "  </style>\n",
              "\n",
              "      <script>\n",
              "        const buttonEl =\n",
              "          document.querySelector('#df-6d2353fe-703f-4975-a55d-cc1614a1a478 button.colab-df-convert');\n",
              "        buttonEl.style.display =\n",
              "          google.colab.kernel.accessAllowed ? 'block' : 'none';\n",
              "\n",
              "        async function convertToInteractive(key) {\n",
              "          const element = document.querySelector('#df-6d2353fe-703f-4975-a55d-cc1614a1a478');\n",
              "          const dataTable =\n",
              "            await google.colab.kernel.invokeFunction('convertToInteractive',\n",
              "                                                     [key], {});\n",
              "          if (!dataTable) return;\n",
              "\n",
              "          const docLinkHtml = 'Like what you see? Visit the ' +\n",
              "            '<a target=\"_blank\" href=https://colab.research.google.com/notebooks/data_table.ipynb>data table notebook</a>'\n",
              "            + ' to learn more about interactive tables.';\n",
              "          element.innerHTML = '';\n",
              "          dataTable['output_type'] = 'display_data';\n",
              "          await google.colab.output.renderOutput(dataTable, element);\n",
              "          const docLink = document.createElement('div');\n",
              "          docLink.innerHTML = docLinkHtml;\n",
              "          element.appendChild(docLink);\n",
              "        }\n",
              "      </script>\n",
              "    </div>\n",
              "  </div>\n",
              "  "
            ],
            "text/plain": [
              "            0.143   0.98493\n",
              "0.143    1.000000  0.051263\n",
              "0.98493  0.051263  1.000000"
            ]
          },
          "metadata": {},
          "execution_count": 5
        }
      ]
    },
    {
      "cell_type": "code",
      "source": [
        "n_samples, n_features = dataset.shape\n",
        "\n",
        "print('Number of samples:', n_samples)\n",
        "print('Number of features:', n_features)"
      ],
      "metadata": {
        "colab": {
          "base_uri": "https://localhost:8080/"
        },
        "id": "CNhocAXBGHxJ",
        "outputId": "0bf0195c-78ee-4acd-dbd7-8a8b71edf3bc"
      },
      "execution_count": 6,
      "outputs": [
        {
          "output_type": "stream",
          "name": "stdout",
          "text": [
            "Number of samples: 999\n",
            "Number of features: 2\n"
          ]
        }
      ]
    },
    {
      "cell_type": "code",
      "source": [
        "X = dataset.iloc[:,1:2].values\n",
        "Y = dataset.iloc[:,0].values\n",
        "X.shape\n",
        "Y.shape\n"
      ],
      "metadata": {
        "colab": {
          "base_uri": "https://localhost:8080/"
        },
        "id": "SLtq2C427SPB",
        "outputId": "0f871760-b601-45f1-cf11-d9d08f64cf7a"
      },
      "execution_count": 7,
      "outputs": [
        {
          "output_type": "execute_result",
          "data": {
            "text/plain": [
              "(999,)"
            ]
          },
          "metadata": {},
          "execution_count": 7
        }
      ]
    },
    {
      "cell_type": "code",
      "source": [
        "print(\"Variance in x =\",np.var(dataset))"
      ],
      "metadata": {
        "colab": {
          "base_uri": "https://localhost:8080/"
        },
        "id": "zOKj64dLCVs1",
        "outputId": "40a61460-7ee8-4a9a-ca27-a1f67c04d7b1"
      },
      "execution_count": 8,
      "outputs": [
        {
          "output_type": "stream",
          "name": "stdout",
          "text": [
            "Variance in x = 0.143      14.780916\n",
            "0.98493    16.871264\n",
            "dtype: float64\n"
          ]
        }
      ]
    },
    {
      "cell_type": "code",
      "source": [
        "print(\"Variance in x =\",np.var(X))\n",
        "print(\"Variance in y =\",np.var(Y))"
      ],
      "metadata": {
        "colab": {
          "base_uri": "https://localhost:8080/"
        },
        "id": "lHXFEEbk8sia",
        "outputId": "3808b5bc-f632-4bb1-da9d-d38bbe243234"
      },
      "execution_count": 9,
      "outputs": [
        {
          "output_type": "stream",
          "name": "stdout",
          "text": [
            "Variance in x = 16.87126359660709\n",
            "Variance in y = 14.780916207895674\n"
          ]
        }
      ]
    },
    {
      "cell_type": "code",
      "source": [
        "plt.scatter(X, Y)"
      ],
      "metadata": {
        "colab": {
          "base_uri": "https://localhost:8080/",
          "height": 282
        },
        "id": "cDqK3AkV9iJV",
        "outputId": "856338a7-cc8d-4470-b68f-91bd215dfe20"
      },
      "execution_count": 10,
      "outputs": [
        {
          "output_type": "execute_result",
          "data": {
            "text/plain": [
              "<matplotlib.collections.PathCollection at 0x7f69b3718710>"
            ]
          },
          "metadata": {},
          "execution_count": 10
        },
        {
          "output_type": "display_data",
          "data": {
            "image/png": "[encoded data removed]",
            "text/plain": [
              "<Figure size 432x288 with 1 Axes>"
            ]
          },
          "metadata": {
            "needs_background": "light"
          }
        }
      ]
    },
    {
      "cell_type": "code",
      "source": [
        "# calculate the mean of each column\n",
        "Mean_vector = mean(dataset.T, axis=1)\n",
        "print(Mean_vector)"
      ],
      "metadata": {
        "colab": {
          "base_uri": "https://localhost:8080/"
        },
        "id": "gyF7o05t9ph6",
        "outputId": "cfa78290-a931-45e6-fa79-c4a762927b95"
      },
      "execution_count": 11,
      "outputs": [
        {
          "output_type": "stream",
          "name": "stdout",
          "text": [
            "0.143     -0.000143\n",
            "0.98493   -0.000986\n",
            "dtype: float64\n"
          ]
        }
      ]
    },
    {
      "cell_type": "code",
      "source": [
        "# centering the values\n",
        "\n",
        "# center columns by subtracting column means\n",
        "Centered_dataset = dataset - Mean_vector"
      ],
      "metadata": {
        "id": "AG6vq8pl91LB"
      },
      "execution_count": 12,
      "outputs": []
    },
    {
      "cell_type": "code",
      "source": [
        "Centered_X = Centered_dataset.iloc[:,1:2].values\n",
        "Centered_Y = Centered_dataset.iloc[:,0].values\n",
        "plt.scatter(Centered_X, Centered_Y)"
      ],
      "metadata": {
        "colab": {
          "base_uri": "https://localhost:8080/",
          "height": 282
        },
        "id": "nt_EqQLN-MvN",
        "outputId": "18086c49-e765-4493-d141-69b02c5f22d4"
      },
      "execution_count": 13,
      "outputs": [
        {
          "output_type": "execute_result",
          "data": {
            "text/plain": [
              "<matplotlib.collections.PathCollection at 0x7f69b368bfd0>"
            ]
          },
          "metadata": {},
          "execution_count": 13
        },
        {
          "output_type": "display_data",
          "data": {
            "image/png": "[encoded data removed]",
            "text/plain": [
              "<Figure size 432x288 with 1 Axes>"
            ]
          },
          "metadata": {
            "needs_background": "light"
          }
        }
      ]
    },
    {
      "cell_type": "code",
      "source": [
        "#covariance matrix\n",
        "number_of_points = 1000\n",
        "CovMatrix2 = dot(Centered_dataset.T, Centered_dataset) /(number_of_points-1) #in numpy N-1 is the default \n",
        "print(CovMatrix2)"
      ],
      "metadata": {
        "colab": {
          "base_uri": "https://localhost:8080/"
        },
        "id": "RAAr8Fgv-tol",
        "outputId": "7ae5ebd5-c971-483c-ef65-d8b5e7713e75"
      },
      "execution_count": 14,
      "outputs": [
        {
          "output_type": "stream",
          "name": "stdout",
          "text": [
            "[[14.78091621  0.80952758]\n",
            " [ 0.80952758 16.8712636 ]]\n"
          ]
        }
      ]
    },
    {
      "cell_type": "code",
      "source": [
        "# now we can calculate the covariance matrix\n",
        "CovMatrix = cov(Centered_dataset.T)\n",
        "print(CovMatrix)"
      ],
      "metadata": {
        "colab": {
          "base_uri": "https://localhost:8080/"
        },
        "id": "sK-psQDC-jQE",
        "outputId": "d03616c2-0ec2-4e3b-eac4-a41b001d373a"
      },
      "execution_count": 15,
      "outputs": [
        {
          "output_type": "stream",
          "name": "stdout",
          "text": [
            "[[14.79572675  0.81033873]\n",
            " [ 0.81033873 16.88816867]]\n"
          ]
        }
      ]
    },
    {
      "cell_type": "code",
      "source": [
        "# make eigendecomposition of covariance matrix\n",
        "values, vectors = eig(CovMatrix)\n"
      ],
      "metadata": {
        "id": "VZOnjiUu_Jbc"
      },
      "execution_count": 16,
      "outputs": []
    },
    {
      "cell_type": "code",
      "source": [
        "print('Eigenvalues \\n', values)\n",
        "print('Eigenvectors \\n', vectors)"
      ],
      "metadata": {
        "colab": {
          "base_uri": "https://localhost:8080/"
        },
        "id": "hNG0HaRSEdBK",
        "outputId": "95803f28-8972-46ca-b62c-1d1d7f5d28cf"
      },
      "execution_count": 17,
      "outputs": [
        {
          "output_type": "stream",
          "name": "stdout",
          "text": [
            "Eigenvalues \n",
            " [14.51860831 17.16528711]\n",
            "Eigenvectors \n",
            " [[-0.94620071 -0.32358031]\n",
            " [ 0.32358031 -0.94620071]]\n"
          ]
        }
      ]
    },
    {
      "cell_type": "code",
      "source": [
        "import matplotlib.pyplot as pyplot\n",
        "plt.scatter(Centered_X, Centered_Y)\n",
        "\n",
        "for e, v in zip(values, vectors.T):\n",
        "    pyplot.plot([0, 3*sqrt(e)*v[0]], [0, 3*sqrt(e)*v[1]], 'k-', lw=3) \n",
        "pyplot.axis('equal')"
      ],
      "metadata": {
        "colab": {
          "base_uri": "https://localhost:8080/",
          "height": 334
        },
        "id": "kiRFIpXc_geQ",
        "outputId": "54af1f9d-60fd-4184-a96b-630346441d1e"
      },
      "execution_count": 18,
      "outputs": [
        {
          "output_type": "execute_result",
          "data": {
            "text/plain": [
              "(-11.815488164251573,\n",
              " 10.173065400480828,\n",
              " -12.776973645800322,\n",
              " 9.58290065814169)"
            ]
          },
          "metadata": {},
          "execution_count": 18
        },
        {
          "output_type": "display_data",
          "data": {
            "image/png": "[encoded data removed]",
            "text/plain": [
              "<Figure size 432x288 with 1 Axes>"
            ]
          },
          "metadata": {
            "needs_background": "light"
          }
        }
      ]
    },
    {
      "cell_type": "code",
      "source": [
        "#Sorting eigenvalues in descending order.\n",
        "\n",
        "# We first make a list of (eigenvalue, eigenvector) tuples\n",
        "eig_pairs = [(np.abs(values[i]), vectors[i,:]) for i in range(len(values))]\n",
        "\n",
        "# Then, we sort the tuples from the highest to the lowest based on eigenvalues magnitude\n",
        "eig_pairs.sort(key=lambda x: x[0], reverse=True)\n",
        "\n",
        "# For further usage\n",
        "eig_vals_sorted = np.array([x[0] for x in eig_pairs])\n",
        "eig_vecs_sorted = np.array([x[1] for x in eig_pairs])\n",
        "\n",
        "print(eig_pairs)"
      ],
      "metadata": {
        "colab": {
          "base_uri": "https://localhost:8080/"
        },
        "id": "4vKBH1i9E0K_",
        "outputId": "a579e0e9-e9ce-4f47-8a85-cd1d4950475b"
      },
      "execution_count": 19,
      "outputs": [
        {
          "output_type": "stream",
          "name": "stdout",
          "text": [
            "[(17.16528710571078, array([ 0.32358031, -0.94620071])), (14.51860830981853, array([-0.94620071, -0.32358031]))]\n"
          ]
        }
      ]
    },
    {
      "cell_type": "code",
      "source": [
        "plt.plot(eig_vals_sorted)"
      ],
      "metadata": {
        "id": "8CTAgfVfVWw5",
        "outputId": "473c8b1d-ae91-45a2-fc02-5ee1fd4096c4",
        "colab": {
          "base_uri": "https://localhost:8080/",
          "height": 282
        }
      },
      "execution_count": 20,
      "outputs": [
        {
          "output_type": "execute_result",
          "data": {
            "text/plain": [
              "[<matplotlib.lines.Line2D at 0x7f69b3f78610>]"
            ]
          },
          "metadata": {},
          "execution_count": 20
        },
        {
          "output_type": "display_data",
          "data": {
            "image/png": "[encoded data removed]",
            "text/plain": [
              "<Figure size 432x288 with 1 Axes>"
            ]
          },
          "metadata": {
            "needs_background": "light"
          }
        }
      ]
    },
    {
      "cell_type": "code",
      "source": [
        "# Select top k eigenvectors\n",
        "k = 2\n",
        "W = eig_vecs_sorted[:k, :] # Projection matrix\n",
        "\n",
        "print(W.shape)\n",
        "print(W)"
      ],
      "metadata": {
        "colab": {
          "base_uri": "https://localhost:8080/"
        },
        "id": "UFudfsOYFPGh",
        "outputId": "b82ce1b0-5407-4a96-824e-50384c3cd570"
      },
      "execution_count": 21,
      "outputs": [
        {
          "output_type": "stream",
          "name": "stdout",
          "text": [
            "(2, 2)\n",
            "[[ 0.32358031 -0.94620071]\n",
            " [-0.94620071 -0.32358031]]\n"
          ]
        }
      ]
    },
    {
      "cell_type": "markdown",
      "source": [
        "The explained variance tells us how much variance can be attributed to each of the principal components."
      ],
      "metadata": {
        "id": "oflPlsInFve6"
      }
    },
    {
      "cell_type": "code",
      "source": [
        "eig_vals_total = sum(values)\n",
        "explained_variance = [(i / eig_vals_total)*100 for i in eig_vals_sorted]\n",
        "explained_variance = np.round(explained_variance, 2)\n",
        "cum_explained_variance = np.cumsum(explained_variance)\n",
        "\n",
        "print('Explained variance: {}'.format(explained_variance))\n",
        "print('Cumulative explained variance: {}'.format(cum_explained_variance))\n",
        "\n",
        "plt.plot(np.arange(1,n_features+1), cum_explained_variance, '-o')\n",
        "plt.xticks(np.arange(1,n_features+1))\n",
        "plt.xlabel('Number of components')\n",
        "plt.ylabel('Cumulative explained variance');\n",
        "plt.show()"
      ],
      "metadata": {
        "colab": {
          "base_uri": "https://localhost:8080/",
          "height": 313
        },
        "id": "FNCWXK_YFwAj",
        "outputId": "dced9d15-eb47-4d21-fe3e-ef908411c32a"
      },
      "execution_count": 22,
      "outputs": [
        {
          "output_type": "stream",
          "name": "stdout",
          "text": [
            "Explained variance: [54.18 45.82]\n",
            "Cumulative explained variance: [ 54.18 100.  ]\n"
          ]
        },
        {
          "output_type": "display_data",
          "data": {
            "image/png": "[encoded data removed]",
            "text/plain": [
              "<Figure size 432x288 with 1 Axes>"
            ]
          },
          "metadata": {
            "needs_background": "light"
          }
        }
      ]
    },
    {
      "cell_type": "code",
      "source": [
        "X_proj = Centered_dataset.dot(W.T)\n",
        "\n",
        "print(X_proj.shape)"
      ],
      "metadata": {
        "colab": {
          "base_uri": "https://localhost:8080/"
        },
        "id": "Ly2Kf5CZGbTI",
        "outputId": "5f0146e4-86e7-407a-d23e-3bd09fc2f70e"
      },
      "execution_count": 23,
      "outputs": [
        {
          "output_type": "stream",
          "name": "stdout",
          "text": [
            "(999, 2)\n"
          ]
        }
      ]
    },
    {
      "cell_type": "markdown",
      "source": [
        "summary of above in a single cell\n",
        "\n"
      ],
      "metadata": {
        "id": "wzu5imwFLCT4"
      }
    },
    {
      "cell_type": "code",
      "source": [
        "class MyPCA:\n",
        "    \n",
        "    def __init__(self, n_components):\n",
        "        self.n_components = n_components   \n",
        "        \n",
        "    def fit(self, X):\n",
        "        # Standardize data \n",
        "        X = X.copy()\n",
        "        self.mean = np.mean(X, axis = 0)\n",
        "        self.scale = np.std(X, axis = 0)\n",
        "        X_std = (X - self.mean) / self.scale\n",
        "        \n",
        "        # Eigendecomposition of covariance matrix       \n",
        "        cov_mat = np.cov(X_std.T)\n",
        "        eig_vals, eig_vecs = np.linalg.eig(cov_mat) \n",
        "        \n",
        "        # Adjusting the eigenvectors that are largest in absolute value to be positive    \n",
        "        max_abs_idx = np.argmax(np.abs(eig_vecs), axis=0)\n",
        "        signs = np.sign(eig_vecs[max_abs_idx, range(eig_vecs.shape[0])])\n",
        "        eig_vecs = eig_vecs*signs[np.newaxis,:]\n",
        "        eig_vecs = eig_vecs.T\n",
        "       \n",
        "        eig_pairs = [(np.abs(eig_vals[i]), eig_vecs[i,:]) for i in range(len(eig_vals))]\n",
        "        eig_pairs.sort(key=lambda x: x[0], reverse=True)\n",
        "        eig_vals_sorted = np.array([x[0] for x in eig_pairs])\n",
        "        eig_vecs_sorted = np.array([x[1] for x in eig_pairs])\n",
        "        \n",
        "        self.components = eig_vecs_sorted[:self.n_components,:]\n",
        "        \n",
        "        # Explained variance ratio\n",
        "        self.explained_variance_ratio = [i/np.sum(eig_vals) for i in eig_vals_sorted[:self.n_components]]\n",
        "        \n",
        "        self.cum_explained_variance = np.cumsum(self.explained_variance_ratio)\n",
        "\n",
        "        return self\n",
        "\n",
        "    def transform(self, X):\n",
        "        X = X.copy()\n",
        "        X_std = (X - self.mean) / self.scale\n",
        "        X_proj = X_std.dot(self.components.T)\n",
        "        \n",
        "        return X_proj\n",
        "# ---------------------------------------------------------\n",
        "my_pca = MyPCA(n_components = 2).fit(dataset)\n",
        "\n",
        "print('Components:\\n', my_pca.components)\n",
        "print('Explained variance ratio from scratch:\\n', my_pca.explained_variance_ratio)\n",
        "print('Cumulative explained variance from scratch:\\n', my_pca.cum_explained_variance)\n",
        "\n",
        "X_proj = my_pca.transform(dataset)\n",
        "print('Transformed data shape from scratch:', X_proj.shape)\n",
        "print(eig_pairs)"
      ],
      "metadata": {
        "colab": {
          "base_uri": "https://localhost:8080/"
        },
        "id": "5VNqe_7PLGFo",
        "outputId": "83a91932-35af-4641-f668-a16b2b8774be"
      },
      "execution_count": 24,
      "outputs": [
        {
          "output_type": "stream",
          "name": "stdout",
          "text": [
            "Components:\n",
            " [[ 0.70710678  0.70710678]\n",
            " [-0.70710678  0.70710678]]\n",
            "Explained variance ratio from scratch:\n",
            " [0.5256316858523, 0.4743683141477]\n",
            "Cumulative explained variance from scratch:\n",
            " [0.52563169 1.        ]\n",
            "Transformed data shape from scratch: (999, 2)\n",
            "[(17.16528710571078, array([ 0.32358031, -0.94620071])), (14.51860830981853, array([-0.94620071, -0.32358031]))]\n"
          ]
        }
      ]
    },
    {
      "cell_type": "markdown",
      "source": [
        "Another Approach for same\n",
        "\n"
      ],
      "metadata": {
        "id": "n35b5jTuJE4f"
      }
    },
    {
      "cell_type": "code",
      "execution_count": 25,
      "metadata": {
        "colab": {
          "base_uri": "https://localhost:8080/"
        },
        "id": "LpmlI8TCj68g",
        "outputId": "b6cc5fac-7eaa-4650-9974-5c8c8640cb48"
      },
      "outputs": [
        {
          "output_type": "execute_result",
          "data": {
            "text/plain": [
              "array([[ 0.143  ,  0.98493],\n",
              "       [-0.30467,  0.98562],\n",
              "       [ 0.46625, -0.84003],\n",
              "       ...,\n",
              "       [ 6.1062 , -5.9864 ],\n",
              "       [-7.4094 , -5.5205 ],\n",
              "       [-0.12948, -8.8036 ]])"
            ]
          },
          "metadata": {},
          "execution_count": 25
        }
      ],
      "source": [
        "data = np.genfromtxt('/content/Dataset.csv', delimiter=',') # Loading Data\n",
        "data"
      ]
    },
    {
      "cell_type": "code",
      "execution_count": 26,
      "metadata": {
        "id": "etiE1xTvj68h"
      },
      "outputs": [],
      "source": [
        "import matplotlib.pyplot as plt"
      ]
    },
    {
      "cell_type": "code",
      "execution_count": 27,
      "metadata": {
        "colab": {
          "base_uri": "https://localhost:8080/",
          "height": 286
        },
        "id": "FPacHPuuj68h",
        "outputId": "03a5de13-14c4-45f1-e79b-168baa974e1d"
      },
      "outputs": [
        {
          "output_type": "execute_result",
          "data": {
            "text/plain": [
              "[<matplotlib.lines.Line2D at 0x7f69b2fedb10>]"
            ]
          },
          "metadata": {},
          "execution_count": 27
        },
        {
          "output_type": "display_data",
          "data": {
            "image/png": "[encoded data removed]",
            "text/plain": [
              "<Figure size 432x288 with 1 Axes>"
            ]
          },
          "metadata": {
            "needs_background": "light"
          }
        }
      ],
      "source": [
        "x,y = data[:,0],data[:,1]\n",
        "plt.plot(x,y,'r.')"
      ]
    },
    {
      "cell_type": "code",
      "execution_count": 28,
      "metadata": {
        "colab": {
          "base_uri": "https://localhost:8080/"
        },
        "id": "nOxIvbrHj68i",
        "outputId": "3d64e1a1-59ec-43f9-8725-fb9dbc22b77c"
      },
      "outputs": [
        {
          "output_type": "execute_result",
          "data": {
            "text/plain": [
              "array([4.075e-07, 2.227e-07])"
            ]
          },
          "metadata": {},
          "execution_count": 28
        }
      ],
      "source": [
        "mean_of_data = np.mean(data,axis = 0) # Mean of data\n",
        "mean_of_data"
      ]
    },
    {
      "cell_type": "code",
      "execution_count": 29,
      "metadata": {
        "colab": {
          "base_uri": "https://localhost:8080/"
        },
        "id": "GKNtIbbCj68j",
        "outputId": "a0e1aa8c-b52f-480b-dbc1-ddb52223a191"
      },
      "outputs": [
        {
          "output_type": "execute_result",
          "data": {
            "text/plain": [
              "array([[ 0.14299959,  0.98492978],\n",
              "       [-0.30467041,  0.98561978],\n",
              "       [ 0.46624959, -0.84003022],\n",
              "       ...,\n",
              "       [ 6.10619959, -5.98640022],\n",
              "       [-7.40940041, -5.52050022],\n",
              "       [-0.12948041, -8.80360022]])"
            ]
          },
          "metadata": {},
          "execution_count": 29
        }
      ],
      "source": [
        "centered_data = data - mean_of_data #centering data\n",
        "centered_data"
      ]
    },
    {
      "cell_type": "code",
      "execution_count": 30,
      "metadata": {
        "id": "eJbI-q4Yj68j"
      },
      "outputs": [],
      "source": [
        "var_ori = np.var(centered_data,axis=0)  #Variance of original data"
      ]
    },
    {
      "cell_type": "code",
      "execution_count": 31,
      "metadata": {
        "colab": {
          "base_uri": "https://localhost:8080/",
          "height": 286
        },
        "id": "ny2S1100j68k",
        "outputId": "0da70b24-1bd3-448e-ccaa-241ef76cd922"
      },
      "outputs": [
        {
          "output_type": "execute_result",
          "data": {
            "text/plain": [
              "[<matplotlib.lines.Line2D at 0x7f69b2f93590>]"
            ]
          },
          "metadata": {},
          "execution_count": 31
        },
        {
          "output_type": "display_data",
          "data": {
            "image/png": "[encoded data removed]",
            "text/plain": [
              "<Figure size 432x288 with 1 Axes>"
            ]
          },
          "metadata": {
            "needs_background": "light"
          }
        }
      ],
      "source": [
        "x_c,y_c = centered_data[:,0],centered_data[:,1]\n",
        "plt.plot(x_c,y_c,'g.')"
      ]
    },
    {
      "cell_type": "code",
      "execution_count": 32,
      "metadata": {
        "colab": {
          "base_uri": "https://localhost:8080/"
        },
        "id": "NAFh08vDj68l",
        "outputId": "d54fb640-ea0d-4892-9039-c23455754abb"
      },
      "outputs": [
        {
          "output_type": "execute_result",
          "data": {
            "text/plain": [
              "array([[14.7809367 ,  0.80966871],\n",
              "       [ 0.80966871, 16.87223563]])"
            ]
          },
          "metadata": {},
          "execution_count": 32
        }
      ],
      "source": [
        "covariance = np.cov(centered_data,rowvar = False)  # covariance matrix of centered data\n",
        "covariance"
      ]
    },
    {
      "cell_type": "code",
      "execution_count": 33,
      "metadata": {
        "id": "5vda7CY0j68l"
      },
      "outputs": [],
      "source": [
        "import scipy.linalg as la"
      ]
    },
    {
      "cell_type": "code",
      "execution_count": 34,
      "metadata": {
        "id": "bu-BrsYgj68m"
      },
      "outputs": [],
      "source": [
        "eigen_values,eigen_vectors = la.eig(covariance)\n"
      ]
    },
    {
      "cell_type": "code",
      "execution_count": 35,
      "metadata": {
        "colab": {
          "base_uri": "https://localhost:8080/"
        },
        "id": "fs1yf4Tpj68m",
        "outputId": "ea8ace5c-c19c-47b4-f271-6e554c13cc80"
      },
      "outputs": [
        {
          "output_type": "stream",
          "name": "stdout",
          "text": [
            "The eigen values are : [14.50410886+0.j 17.14906347+0.j]\n",
            "\n",
            "The eigen vectors of covariance matrix : [[-0.9462227 -0.323516 ]\n",
            " [ 0.323516  -0.9462227]]\n"
          ]
        }
      ],
      "source": [
        "print('The eigen values are :',eigen_values)\n",
        "print()\n",
        "print('The eigen vectors of covariance matrix :',eigen_vectors)"
      ]
    },
    {
      "cell_type": "code",
      "execution_count": 36,
      "metadata": {
        "id": "iHo-drTJj68m"
      },
      "outputs": [],
      "source": [
        "eig_ind = []\n",
        "for i in range(len(eigen_values)):\n",
        "    eig_ind.append((i,eigen_values[i]))\n",
        "eig_ind.sort(key = lambda x: x[1],reverse = True)\n",
        "eigen_values = (eig_ind[0][1],eig_ind[1][1])\n",
        "major_eve,minor_eve = eigen_vectors[:,eig_ind[0][0]],eigen_vectors[:,eig_ind[1][0]] # 1st and 2nd principle components"
      ]
    },
    {
      "cell_type": "code",
      "execution_count": 37,
      "metadata": {
        "colab": {
          "base_uri": "https://localhost:8080/"
        },
        "id": "TfmpkpRcj68n",
        "outputId": "2f237e11-faba-41ab-8706-2a5f11f94a48"
      },
      "outputs": [
        {
          "output_type": "execute_result",
          "data": {
            "text/plain": [
              "array([[-0.97822557, -0.83405005,  0.64401646, ...,  3.68901448,\n",
              "         7.62068223,  8.37205534],\n",
              "       [ 0.18333109,  0.60714983, -0.71293917, ..., -7.71452094,\n",
              "         5.22497267, -2.72558827]])"
            ]
          },
          "metadata": {},
          "execution_count": 37
        }
      ],
      "source": [
        "w_transpose = np.array([major_eve,minor_eve])\n",
        "projection_scalars = w_transpose@np.transpose(centered_data)\n",
        "projection_scalars  # Projections"
      ]
    },
    {
      "cell_type": "code",
      "execution_count": 38,
      "metadata": {
        "id": "HuVrEjgRj68n"
      },
      "outputs": [],
      "source": [
        "major_eve_new_data,minor_eve_new_data = [],[]\n",
        "for i in range(len(centered_data)):\n",
        "    major_eve_new_data.append(list(projection_scalars[0][i]*major_eve))\n",
        "    minor_eve_new_data.append(list(projection_scalars[1][i]*minor_eve))\n",
        "major_eve_new_data = np.array(major_eve_new_data) # Projected data on 1st principle component\n",
        "minor_eve_new_data = np.array(minor_eve_new_data) # Projected data on 2nd principle component"
      ]
    },
    {
      "cell_type": "code",
      "execution_count": 39,
      "metadata": {
        "id": "FxzlPAXBj68o"
      },
      "outputs": [],
      "source": [
        "major_var = np.var(major_eve_new_data) # variance of 1st principle component\n",
        "minor_var = np.var(minor_eve_new_data) # variance of 2nd principle component"
      ]
    },
    {
      "cell_type": "code",
      "execution_count": 40,
      "metadata": {
        "id": "-zoZjXjPj68o"
      },
      "outputs": [],
      "source": [
        "ori_var_mag = np.linalg.norm(var_ori)      # magnitude of original data variance\n",
        "major_var_mag = np.linalg.norm(major_var)  # magnitude of 1st principle variance\n",
        "minor_var_mag = np.linalg.norm(minor_var)  # magnitude of 2nd principle variance"
      ]
    },
    {
      "cell_type": "markdown",
      "source": [
        "Printing the explained variance "
      ],
      "metadata": {
        "id": "JpN-_PZzRLmX"
      }
    },
    {
      "cell_type": "code",
      "execution_count": 41,
      "metadata": {
        "colab": {
          "base_uri": "https://localhost:8080/"
        },
        "id": "Nv9Qzvgbj68p",
        "outputId": "4c5f7755-75de-4849-98f3-93e404fc56fd"
      },
      "outputs": [
        {
          "output_type": "stream",
          "name": "stdout",
          "text": [
            "Variance explained by 1st PCA :61.77369212497512%\n",
            "variance explained by 2nd PCA :67.66945718242042%\n"
          ]
        }
      ],
      "source": [
        "percent_var_major = (abs(major_var_mag - ori_var_mag)/ori_var_mag)*100\n",
        "percent_var_minor = (abs(minor_var_mag - ori_var_mag)/ori_var_mag)*100\n",
        "print('Variance explained by 1st PCA :{}%'.format(percent_var_major))\n",
        "print('variance explained by 2nd PCA :{}%'.format(percent_var_minor))"
      ]
    },
    {
      "cell_type": "code",
      "execution_count": 42,
      "metadata": {
        "colab": {
          "base_uri": "https://localhost:8080/",
          "height": 577
        },
        "id": "0kmZ2IVcj68p",
        "outputId": "b6428b5b-fa5f-4eef-868e-b6f78696b7ee"
      },
      "outputs": [
        {
          "output_type": "execute_result",
          "data": {
            "text/plain": [
              "Text(0.5, 1.0, 'Projection scalars of two principle components')"
            ]
          },
          "metadata": {},
          "execution_count": 42
        },
        {
          "output_type": "display_data",
          "data": {
            "image/png": "[encoded data removed]",
            "text/plain": [
              "<Figure size 432x288 with 1 Axes>"
            ]
          },
          "metadata": {
            "needs_background": "light"
          }
        },
        {
          "output_type": "display_data",
          "data": {
            "image/png": "[encoded data removed]",
            "text/plain": [
              "<Figure size 432x288 with 1 Axes>"
            ]
          },
          "metadata": {
            "needs_background": "light"
          }
        }
      ],
      "source": [
        "plt.figure(1)\n",
        "pca_major = np.array(major_eve_new_data)\n",
        "ma_x,ma_y = pca_major[:,0],pca_major[:,1]\n",
        "plt.plot(ma_x,ma_y,'b')\n",
        "plt.title('Projected data on the first two principle components')\n",
        "\n",
        "pca_minor = np.array(minor_eve_new_data)\n",
        "mi_x,mi_y = pca_minor[:,0],pca_minor[:,1]\n",
        "plt.plot(mi_x,mi_y,'r')\n",
        "\n",
        "plt.legend(['First PCA','Second PCA'])\n",
        "\n",
        "plt.figure(2)\n",
        "plt.plot(projection_scalars[1],projection_scalars[0],'b.')\n",
        "plt.xlabel('Projection_scalar of 1st principle')\n",
        "plt.ylabel('Projection_scalar of 2nd principle')\n",
        "plt.title('Projection scalars of two principle components')"
      ]
    }
  ]
}